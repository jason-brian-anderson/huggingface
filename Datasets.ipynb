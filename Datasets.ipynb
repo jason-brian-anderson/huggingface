{
  "cells": [
    {
      "cell_type": "markdown",
      "metadata": {
        "id": "view-in-github",
        "colab_type": "text"
      },
      "source": [
        "<a href=\"https://colab.research.google.com/github/jason-brian-anderson/huggingface/blob/main/Datasets.ipynb\" target=\"_parent\"><img src=\"https://colab.research.google.com/assets/colab-badge.svg\" alt=\"Open In Colab\"/></a>"
      ]
    },
    {
      "cell_type": "markdown",
      "metadata": {
        "id": "NfV-xMFsYCIZ"
      },
      "source": [
        "# What if my dataset isn't on the Hub?"
      ]
    },
    {
      "cell_type": "markdown",
      "metadata": {
        "id": "DS-nkjEZYCIm"
      },
      "source": [
        "Install the Transformers, Datasets, and Evaluate libraries to run this notebook."
      ]
    },
    {
      "cell_type": "code",
      "execution_count": null,
      "metadata": {
        "id": "6kEY62jbYCIo"
      },
      "outputs": [],
      "source": [
        "!pip install datasets evaluate transformers[sentencepiece]"
      ]
    },
    {
      "cell_type": "code",
      "execution_count": null,
      "metadata": {
        "id": "NVn7HvAbYCIt"
      },
      "outputs": [],
      "source": [
        "!wget https://github.com/crux82/squad-it/raw/master/SQuAD_it-train.json.gz\n",
        "!wget https://github.com/crux82/squad-it/raw/master/SQuAD_it-test.json.gz"
      ]
    },
    {
      "cell_type": "code",
      "execution_count": null,
      "metadata": {
        "id": "LKGcXGoxYCIu"
      },
      "outputs": [],
      "source": [
        "!gzip -dkv SQuAD_it-*.json.gz"
      ]
    },
    {
      "cell_type": "code",
      "execution_count": null,
      "metadata": {
        "id": "9l-cLIanYCIw"
      },
      "outputs": [],
      "source": [
        "from datasets import load_dataset\n",
        "\n",
        "squad_it_dataset = load_dataset(\"json\", data_files=\"SQuAD_it-train.json\", field=\"data\")"
      ]
    },
    {
      "cell_type": "code",
      "execution_count": null,
      "metadata": {
        "id": "-Ffu5F5eYCIx",
        "outputId": "114046b1-edeb-4ac0-b680-4701574b1f34"
      },
      "outputs": [
        {
          "data": {
            "text/plain": [
              "DatasetDict({\n",
              "    train: Dataset({\n",
              "        features: ['title', 'paragraphs'],\n",
              "        num_rows: 442\n",
              "    })\n",
              "})"
            ]
          },
          "execution_count": null,
          "metadata": {},
          "output_type": "execute_result"
        }
      ],
      "source": [
        "squad_it_dataset"
      ]
    },
    {
      "cell_type": "code",
      "execution_count": null,
      "metadata": {
        "id": "UbBi8nsSYCI0",
        "outputId": "87e046fb-1069-469b-a4bc-7266dd203bad"
      },
      "outputs": [
        {
          "data": {
            "text/plain": [
              "{\n",
              "    \"title\": \"Terremoto del Sichuan del 2008\",\n",
              "    \"paragraphs\": [\n",
              "        {\n",
              "            \"context\": \"Il terremoto del Sichuan del 2008 o il terremoto...\",\n",
              "            \"qas\": [\n",
              "                {\n",
              "                    \"answers\": [{\"answer_start\": 29, \"text\": \"2008\"}],\n",
              "                    \"id\": \"56cdca7862d2951400fa6826\",\n",
              "                    \"question\": \"In quale anno si è verificato il terremoto nel Sichuan?\",\n",
              "                },\n",
              "                ...\n",
              "            ],\n",
              "        },\n",
              "        ...\n",
              "    ],\n",
              "}"
            ]
          },
          "execution_count": null,
          "metadata": {},
          "output_type": "execute_result"
        }
      ],
      "source": [
        "squad_it_dataset[\"train\"][0]"
      ]
    },
    {
      "cell_type": "code",
      "execution_count": null,
      "metadata": {
        "id": "Mc8tB7T9YCI3",
        "outputId": "0bb631c8-84b3-41f8-c34f-320f2166482e"
      },
      "outputs": [
        {
          "data": {
            "text/plain": [
              "DatasetDict({\n",
              "    train: Dataset({\n",
              "        features: ['title', 'paragraphs'],\n",
              "        num_rows: 442\n",
              "    })\n",
              "    test: Dataset({\n",
              "        features: ['title', 'paragraphs'],\n",
              "        num_rows: 48\n",
              "    })\n",
              "})"
            ]
          },
          "execution_count": null,
          "metadata": {},
          "output_type": "execute_result"
        }
      ],
      "source": [
        "data_files = {\"train\": \"SQuAD_it-train.json\", \"test\": \"SQuAD_it-test.json\"}\n",
        "squad_it_dataset = load_dataset(\"json\", data_files=data_files, field=\"data\")\n",
        "squad_it_dataset"
      ]
    },
    {
      "cell_type": "code",
      "execution_count": null,
      "metadata": {
        "id": "LZTbL3TSYCI5"
      },
      "outputs": [],
      "source": [
        "data_files = {\"train\": \"SQuAD_it-train.json.gz\", \"test\": \"SQuAD_it-test.json.gz\"}\n",
        "squad_it_dataset = load_dataset(\"json\", data_files=data_files, field=\"data\")"
      ]
    },
    {
      "cell_type": "code",
      "execution_count": null,
      "metadata": {
        "id": "RQZXz_MvYCI6"
      },
      "outputs": [],
      "source": [
        "url = \"https://github.com/crux82/squad-it/raw/master/\"\n",
        "data_files = {\n",
        "    \"train\": url + \"SQuAD_it-train.json.gz\",\n",
        "    \"test\": url + \"SQuAD_it-test.json.gz\",\n",
        "}\n",
        "squad_it_dataset = load_dataset(\"json\", data_files=data_files, field=\"data\")"
      ]
    }
  ],
  "metadata": {
    "colab": {
      "name": "What if my dataset isn't on the Hub?",
      "provenance": [],
      "include_colab_link": true
    }
  },
  "nbformat": 4,
  "nbformat_minor": 0
}